{
 "cells": [
  {
   "cell_type": "markdown",
   "metadata": {},
   "source": [
    "# Graph Puzzle\n",
    "\n",
    "The following graph puzzle is entirely a classical computational problem, but has relevance to parts of quantum error correction.\n",
    "This notebook describes the problem in a slightly simplified way without using any confusing quantum information language.\n",
    "\n",
    "\n",
    "## Outline of the puzzle\n",
    "\n",
    "Consider a periodic graph defined as coordinates over edges (`e`) and vertices (`V`) that are arranged in a `D` by `D` grid structure like so:"
   ]
  },
  {
   "cell_type": "code",
   "execution_count": 65,
   "metadata": {},
   "outputs": [
    {
     "name": "stdout",
     "output_type": "stream",
     "text": [
      "\n",
      "        e0      \u001b[0m        e1      \u001b[0m        e2      \u001b[0m        e3      \u001b[0m\n",
      "\n",
      "\n",
      "e4      \u001b[0m\u001b[1mV0      \u001b[0me5      \u001b[0m\u001b[1mV1      \u001b[0me6      \u001b[0m\u001b[1mV2      \u001b[0me7      \u001b[0m\u001b[1mV3      \u001b[0me4      \u001b[0m\n",
      "\n",
      "\n",
      "        e8      \u001b[0m        e9      \u001b[0m        e10     \u001b[0m        e11     \u001b[0m\n",
      "\n",
      "\n",
      "e12     \u001b[0m\u001b[1mV4      \u001b[0me13     \u001b[0m\u001b[1mV5      \u001b[0me14     \u001b[0m\u001b[1mV6      \u001b[0me15     \u001b[0m\u001b[1mV7      \u001b[0me12     \u001b[0m\n",
      "\n",
      "\n",
      "        e16     \u001b[0m        e17     \u001b[0m        e18     \u001b[0m        e19     \u001b[0m\n",
      "\n",
      "\n",
      "e20     \u001b[0m\u001b[1mV8      \u001b[0me21     \u001b[0m\u001b[1mV9      \u001b[0me22     \u001b[0m\u001b[1mV10     \u001b[0me23     \u001b[0m\u001b[1mV11     \u001b[0me20     \u001b[0m\n",
      "\n",
      "\n",
      "        e24     \u001b[0m        e25     \u001b[0m        e26     \u001b[0m        e27     \u001b[0m\n",
      "\n",
      "\n",
      "e28     \u001b[0m\u001b[1mV12     \u001b[0me29     \u001b[0m\u001b[1mV13     \u001b[0me30     \u001b[0m\u001b[1mV14     \u001b[0me31     \u001b[0m\u001b[1mV15     \u001b[0me28     \u001b[0m\n",
      "\n",
      "\n",
      "        e0      \u001b[0m        e1      \u001b[0m        e2      \u001b[0m        e3      \u001b[0m\n",
      "\n",
      "\n",
      "\n",
      "\n",
      "D = 4 repeating graph\n",
      "\n"
     ]
    }
   ],
   "source": [
    "from src.classical.periodic_grid_graph import PeriodicGridGraph\n",
    "\n",
    "graph = PeriodicGridGraph(4)\n",
    "graph.draw_graph()"
   ]
  },
  {
   "cell_type": "markdown",
   "metadata": {},
   "source": [
    "This example has a dimension of `D = 4`, and indexes run from left-to-right, top-to-bottom, for both edges and vertices.\n",
    "\n",
    "The graph has periodic boundary conditions, where the left/right and top/bottom set of edges are identical. In other words, the graph \"wraps around\" like a pacman grid - if you travel beyond the top of the grid you will re-emerge at the bottom, and vice versa. Same goes for left/right.\n",
    "\n",
    "You can see here that every edge connects 2 adjacent vertices, and every vertex has a degree of 4 (i.e. is incident to 4 edges).\n",
    "\n",
    "Here are the rules of the graph:\n",
    "\n",
    "- both edges and vertices can exist in one of two states: `0` or `1`;\n",
    "- if an edge is in the state `1`, then it flips the state of its 2 adjacent vertices;\n",
    "\n",
    "Let's take a look at the same graph again, where all edges and vertices are in the `0` state:"
   ]
  },
  {
   "cell_type": "code",
   "execution_count": 66,
   "metadata": {},
   "outputs": [
    {
     "name": "stdout",
     "output_type": "stream",
     "text": [
      "\n",
      "        e0      \u001b[0m        e1      \u001b[0m        e2      \u001b[0m        e3      \u001b[0m\n",
      "\n",
      "\n",
      "e4      \u001b[0m\u001b[1mV0      \u001b[0me5      \u001b[0m\u001b[1mV1      \u001b[0me6      \u001b[0m\u001b[1mV2      \u001b[0me7      \u001b[0m\u001b[1mV3      \u001b[0me4      \u001b[0m\n",
      "\n",
      "\n",
      "        e8      \u001b[0m        e9      \u001b[0m        e10     \u001b[0m        e11     \u001b[0m\n",
      "\n",
      "\n",
      "e12     \u001b[0m\u001b[1mV4      \u001b[0me13     \u001b[0m\u001b[1mV5      \u001b[0me14     \u001b[0m\u001b[1mV6      \u001b[0me15     \u001b[0m\u001b[1mV7      \u001b[0me12     \u001b[0m\n",
      "\n",
      "\n",
      "        e16     \u001b[0m        e17     \u001b[0m        e18     \u001b[0m        e19     \u001b[0m\n",
      "\n",
      "\n",
      "e20     \u001b[0m\u001b[1mV8      \u001b[0me21     \u001b[0m\u001b[1mV9      \u001b[0me22     \u001b[0m\u001b[1mV10     \u001b[0me23     \u001b[0m\u001b[1mV11     \u001b[0me20     \u001b[0m\n",
      "\n",
      "\n",
      "        e24     \u001b[0m        e25     \u001b[0m        e26     \u001b[0m        e27     \u001b[0m\n",
      "\n",
      "\n",
      "e28     \u001b[0m\u001b[1mV12     \u001b[0me29     \u001b[0m\u001b[1mV13     \u001b[0me30     \u001b[0m\u001b[1mV14     \u001b[0me31     \u001b[0m\u001b[1mV15     \u001b[0me28     \u001b[0m\n",
      "\n",
      "\n",
      "        e0      \u001b[0m        e1      \u001b[0m        e2      \u001b[0m        e3      \u001b[0m\n",
      "\n",
      "\n",
      "\n",
      "\n",
      "D = 4 repeating graph\n",
      "\n"
     ]
    }
   ],
   "source": [
    "graph.draw_graph()"
   ]
  },
  {
   "cell_type": "markdown",
   "metadata": {},
   "source": [
    "Let's see what happens when we flip the state of edge `e17`:"
   ]
  },
  {
   "cell_type": "code",
   "execution_count": 67,
   "metadata": {},
   "outputs": [
    {
     "name": "stdout",
     "output_type": "stream",
     "text": [
      "\n",
      "        e0      \u001b[0m        e1      \u001b[0m        e2      \u001b[0m        e3      \u001b[0m\n",
      "\n",
      "\n",
      "e4      \u001b[0m\u001b[1mV0      \u001b[0me5      \u001b[0m\u001b[1mV1      \u001b[0me6      \u001b[0m\u001b[1mV2      \u001b[0me7      \u001b[0m\u001b[1mV3      \u001b[0me4      \u001b[0m\n",
      "\n",
      "\n",
      "        e8      \u001b[0m        e9      \u001b[0m        e10     \u001b[0m        e11     \u001b[0m\n",
      "\n",
      "\n",
      "e12     \u001b[0m\u001b[1mV4      \u001b[0me13     \u001b[0m\u001b[93m\u001b[1mV5      \u001b[0me14     \u001b[0m\u001b[1mV6      \u001b[0me15     \u001b[0m\u001b[1mV7      \u001b[0me12     \u001b[0m\n",
      "\n",
      "\n",
      "        e16     \u001b[0m        \u001b[91me17     \u001b[0m        e18     \u001b[0m        e19     \u001b[0m\n",
      "\n",
      "\n",
      "e20     \u001b[0m\u001b[1mV8      \u001b[0me21     \u001b[0m\u001b[93m\u001b[1mV9      \u001b[0me22     \u001b[0m\u001b[1mV10     \u001b[0me23     \u001b[0m\u001b[1mV11     \u001b[0me20     \u001b[0m\n",
      "\n",
      "\n",
      "        e24     \u001b[0m        e25     \u001b[0m        e26     \u001b[0m        e27     \u001b[0m\n",
      "\n",
      "\n",
      "e28     \u001b[0m\u001b[1mV12     \u001b[0me29     \u001b[0m\u001b[1mV13     \u001b[0me30     \u001b[0m\u001b[1mV14     \u001b[0me31     \u001b[0m\u001b[1mV15     \u001b[0me28     \u001b[0m\n",
      "\n",
      "\n",
      "        e0      \u001b[0m        e1      \u001b[0m        e2      \u001b[0m        e3      \u001b[0m\n",
      "\n",
      "\n",
      "\n",
      "\n",
      "D = 4 repeating graph\n",
      "\n"
     ]
    }
   ],
   "source": [
    "edges_to_flip = [17]\n",
    "flipped_vertices = graph.mark_vertices(edges_to_flip)\n",
    "\n",
    "graph.draw_graph(edges_to_flip, flipped_vertices)\n"
   ]
  },
  {
   "cell_type": "markdown",
   "metadata": {},
   "source": [
    "We see here that by flipping edge `e17` we have also flipped the state of vertices `V5` and `V9` from `0` to `1`.\n",
    "\n",
    "What happens if we also flip edge `e22`? Let's have a look:"
   ]
  },
  {
   "cell_type": "code",
   "execution_count": 68,
   "metadata": {},
   "outputs": [
    {
     "name": "stdout",
     "output_type": "stream",
     "text": [
      "\n",
      "        e0      \u001b[0m        e1      \u001b[0m        e2      \u001b[0m        e3      \u001b[0m\n",
      "\n",
      "\n",
      "e4      \u001b[0m\u001b[1mV0      \u001b[0me5      \u001b[0m\u001b[1mV1      \u001b[0me6      \u001b[0m\u001b[1mV2      \u001b[0me7      \u001b[0m\u001b[1mV3      \u001b[0me4      \u001b[0m\n",
      "\n",
      "\n",
      "        e8      \u001b[0m        e9      \u001b[0m        e10     \u001b[0m        e11     \u001b[0m\n",
      "\n",
      "\n",
      "e12     \u001b[0m\u001b[1mV4      \u001b[0me13     \u001b[0m\u001b[93m\u001b[1mV5      \u001b[0me14     \u001b[0m\u001b[1mV6      \u001b[0me15     \u001b[0m\u001b[1mV7      \u001b[0me12     \u001b[0m\n",
      "\n",
      "\n",
      "        e16     \u001b[0m        \u001b[91me17     \u001b[0m        e18     \u001b[0m        e19     \u001b[0m\n",
      "\n",
      "\n",
      "e20     \u001b[0m\u001b[1mV8      \u001b[0me21     \u001b[0m\u001b[1mV9      \u001b[0m\u001b[91me22     \u001b[0m\u001b[93m\u001b[1mV10     \u001b[0me23     \u001b[0m\u001b[1mV11     \u001b[0me20     \u001b[0m\n",
      "\n",
      "\n",
      "        e24     \u001b[0m        e25     \u001b[0m        e26     \u001b[0m        e27     \u001b[0m\n",
      "\n",
      "\n",
      "e28     \u001b[0m\u001b[1mV12     \u001b[0me29     \u001b[0m\u001b[1mV13     \u001b[0me30     \u001b[0m\u001b[1mV14     \u001b[0me31     \u001b[0m\u001b[1mV15     \u001b[0me28     \u001b[0m\n",
      "\n",
      "\n",
      "        e0      \u001b[0m        e1      \u001b[0m        e2      \u001b[0m        e3      \u001b[0m\n",
      "\n",
      "\n",
      "\n",
      "\n",
      "D = 4 repeating graph\n",
      "\n"
     ]
    }
   ],
   "source": [
    "edges_to_flip = [17, 22]\n",
    "flipped_vertices = graph.mark_vertices(edges_to_flip)\n",
    "\n",
    "graph.draw_graph(edges_to_flip, flipped_vertices)"
   ]
  },
  {
   "cell_type": "markdown",
   "metadata": {},
   "source": [
    "We see here that by flipping edges `e17` and `e22` we have also flipped the state of vertices `V5` and `V10` from `0` to `1`.\n",
    "\n",
    "But since both `e17` and `e22` have each flipped the state of `V9`, that vertex goes back to the original `0` state.\n",
    "This introduces the concept of the flipped edge \"chain\": given a chain of adjacent flipped edges, only vertices at the ends of the chain will be flipped.\n",
    "\n",
    "What happens when we flip the states of edges `e14` and `e18`?"
   ]
  },
  {
   "cell_type": "code",
   "execution_count": 69,
   "metadata": {},
   "outputs": [
    {
     "name": "stdout",
     "output_type": "stream",
     "text": [
      "\n",
      "        e0      \u001b[0m        e1      \u001b[0m        e2      \u001b[0m        e3      \u001b[0m\n",
      "\n",
      "\n",
      "e4      \u001b[0m\u001b[1mV0      \u001b[0me5      \u001b[0m\u001b[1mV1      \u001b[0me6      \u001b[0m\u001b[1mV2      \u001b[0me7      \u001b[0m\u001b[1mV3      \u001b[0me4      \u001b[0m\n",
      "\n",
      "\n",
      "        e8      \u001b[0m        e9      \u001b[0m        e10     \u001b[0m        e11     \u001b[0m\n",
      "\n",
      "\n",
      "e12     \u001b[0m\u001b[1mV4      \u001b[0me13     \u001b[0m\u001b[93m\u001b[1mV5      \u001b[0m\u001b[91me14     \u001b[0m\u001b[1mV6      \u001b[0me15     \u001b[0m\u001b[1mV7      \u001b[0me12     \u001b[0m\n",
      "\n",
      "\n",
      "        e16     \u001b[0m        e17     \u001b[0m        \u001b[91me18     \u001b[0m        e19     \u001b[0m\n",
      "\n",
      "\n",
      "e20     \u001b[0m\u001b[1mV8      \u001b[0me21     \u001b[0m\u001b[1mV9      \u001b[0me22     \u001b[0m\u001b[93m\u001b[1mV10     \u001b[0me23     \u001b[0m\u001b[1mV11     \u001b[0me20     \u001b[0m\n",
      "\n",
      "\n",
      "        e24     \u001b[0m        e25     \u001b[0m        e26     \u001b[0m        e27     \u001b[0m\n",
      "\n",
      "\n",
      "e28     \u001b[0m\u001b[1mV12     \u001b[0me29     \u001b[0m\u001b[1mV13     \u001b[0me30     \u001b[0m\u001b[1mV14     \u001b[0me31     \u001b[0m\u001b[1mV15     \u001b[0me28     \u001b[0m\n",
      "\n",
      "\n",
      "        e0      \u001b[0m        e1      \u001b[0m        e2      \u001b[0m        e3      \u001b[0m\n",
      "\n",
      "\n",
      "\n",
      "\n",
      "D = 4 repeating graph\n",
      "\n"
     ]
    }
   ],
   "source": [
    "edges_to_flip = [14, 18]\n",
    "flipped_vertices = graph.mark_vertices(edges_to_flip)\n",
    "\n",
    "graph.draw_graph(edges_to_flip, flipped_vertices)"
   ]
  },
  {
   "cell_type": "markdown",
   "metadata": {},
   "source": [
    "We see that this has resulted in flipping the exact same vertices that edges `e17` and `e22` did!\n",
    "\n",
    "A similar thing can happen if the flipped edge chain crosses one of the boundaries.\n",
    "Consider what happens when we flip edges `e20` and `e21`:"
   ]
  },
  {
   "cell_type": "code",
   "execution_count": 70,
   "metadata": {},
   "outputs": [
    {
     "name": "stdout",
     "output_type": "stream",
     "text": [
      "\n",
      "        e0      \u001b[0m        e1      \u001b[0m        e2      \u001b[0m        e3      \u001b[0m\n",
      "\n",
      "\n",
      "e4      \u001b[0m\u001b[1mV0      \u001b[0me5      \u001b[0m\u001b[1mV1      \u001b[0me6      \u001b[0m\u001b[1mV2      \u001b[0me7      \u001b[0m\u001b[1mV3      \u001b[0me4      \u001b[0m\n",
      "\n",
      "\n",
      "        e8      \u001b[0m        e9      \u001b[0m        e10     \u001b[0m        e11     \u001b[0m\n",
      "\n",
      "\n",
      "e12     \u001b[0m\u001b[1mV4      \u001b[0me13     \u001b[0m\u001b[1mV5      \u001b[0me14     \u001b[0m\u001b[1mV6      \u001b[0me15     \u001b[0m\u001b[1mV7      \u001b[0me12     \u001b[0m\n",
      "\n",
      "\n",
      "        e16     \u001b[0m        e17     \u001b[0m        e18     \u001b[0m        e19     \u001b[0m\n",
      "\n",
      "\n",
      "\u001b[91me20     \u001b[0m\u001b[1mV8      \u001b[0m\u001b[91me21     \u001b[0m\u001b[93m\u001b[1mV9      \u001b[0me22     \u001b[0m\u001b[1mV10     \u001b[0me23     \u001b[0m\u001b[93m\u001b[1mV11     \u001b[0m\u001b[91me20     \u001b[0m\n",
      "\n",
      "\n",
      "        e24     \u001b[0m        e25     \u001b[0m        e26     \u001b[0m        e27     \u001b[0m\n",
      "\n",
      "\n",
      "e28     \u001b[0m\u001b[1mV12     \u001b[0me29     \u001b[0m\u001b[1mV13     \u001b[0me30     \u001b[0m\u001b[1mV14     \u001b[0me31     \u001b[0m\u001b[1mV15     \u001b[0me28     \u001b[0m\n",
      "\n",
      "\n",
      "        e0      \u001b[0m        e1      \u001b[0m        e2      \u001b[0m        e3      \u001b[0m\n",
      "\n",
      "\n",
      "\n",
      "\n",
      "D = 4 repeating graph\n",
      "\n"
     ]
    }
   ],
   "source": [
    "edges_to_flip = [20, 21]\n",
    "flipped_vertices = graph.mark_vertices(edges_to_flip)\n",
    "\n",
    "graph.draw_graph(edges_to_flip, flipped_vertices)"
   ]
  },
  {
   "cell_type": "markdown",
   "metadata": {},
   "source": [
    "The eagle-eyed will notice the same vertices would be flipped if edges `e22` and `e23` were flipped. In fact, there are quite a few edge chains that would do this, for example:"
   ]
  },
  {
   "cell_type": "code",
   "execution_count": 71,
   "metadata": {},
   "outputs": [
    {
     "name": "stdout",
     "output_type": "stream",
     "text": [
      "\n",
      "        e0      \u001b[0m        e1      \u001b[0m        e2      \u001b[0m        e3      \u001b[0m\n",
      "\n",
      "\n",
      "e4      \u001b[0m\u001b[1mV0      \u001b[0m\u001b[91me5      \u001b[0m\u001b[1mV1      \u001b[0m\u001b[91me6      \u001b[0m\u001b[1mV2      \u001b[0m\u001b[91me7      \u001b[0m\u001b[1mV3      \u001b[0me4      \u001b[0m\n",
      "\n",
      "\n",
      "        \u001b[91me8      \u001b[0m        e9      \u001b[0m        e10     \u001b[0m        \u001b[91me11     \u001b[0m\n",
      "\n",
      "\n",
      "e12     \u001b[0m\u001b[1mV4      \u001b[0m\u001b[91me13     \u001b[0m\u001b[1mV5      \u001b[0me14     \u001b[0m\u001b[1mV6      \u001b[0me15     \u001b[0m\u001b[1mV7      \u001b[0me12     \u001b[0m\n",
      "\n",
      "\n",
      "        e16     \u001b[0m        \u001b[91me17     \u001b[0m        e18     \u001b[0m        \u001b[91me19     \u001b[0m\n",
      "\n",
      "\n",
      "e20     \u001b[0m\u001b[1mV8      \u001b[0me21     \u001b[0m\u001b[93m\u001b[1mV9      \u001b[0me22     \u001b[0m\u001b[1mV10     \u001b[0me23     \u001b[0m\u001b[93m\u001b[1mV11     \u001b[0me20     \u001b[0m\n",
      "\n",
      "\n",
      "        e24     \u001b[0m        e25     \u001b[0m        e26     \u001b[0m        e27     \u001b[0m\n",
      "\n",
      "\n",
      "e28     \u001b[0m\u001b[1mV12     \u001b[0me29     \u001b[0m\u001b[1mV13     \u001b[0me30     \u001b[0m\u001b[1mV14     \u001b[0me31     \u001b[0m\u001b[1mV15     \u001b[0me28     \u001b[0m\n",
      "\n",
      "\n",
      "        e0      \u001b[0m        e1      \u001b[0m        e2      \u001b[0m        e3      \u001b[0m\n",
      "\n",
      "\n",
      "\n",
      "\n",
      "D = 4 repeating graph\n",
      "\n"
     ]
    }
   ],
   "source": [
    "edges_to_flip = [5, 6, 7, 8, 11, 13, 17, 19]\n",
    "flipped_vertices = graph.mark_vertices(edges_to_flip)\n",
    "\n",
    "graph.draw_graph(edges_to_flip, flipped_vertices)"
   ]
  },
  {
   "cell_type": "markdown",
   "metadata": {},
   "source": [
    "What happens when an edge chain goes from end-to-end either top/bottom or left/right? Let's see:"
   ]
  },
  {
   "cell_type": "code",
   "execution_count": 72,
   "metadata": {},
   "outputs": [
    {
     "name": "stdout",
     "output_type": "stream",
     "text": [
      "\n",
      "        e0      \u001b[0m        \u001b[91me1      \u001b[0m        e2      \u001b[0m        e3      \u001b[0m\n",
      "\n",
      "\n",
      "e4      \u001b[0m\u001b[1mV0      \u001b[0me5      \u001b[0m\u001b[1mV1      \u001b[0me6      \u001b[0m\u001b[1mV2      \u001b[0me7      \u001b[0m\u001b[1mV3      \u001b[0me4      \u001b[0m\n",
      "\n",
      "\n",
      "        e8      \u001b[0m        \u001b[91me9      \u001b[0m        e10     \u001b[0m        e11     \u001b[0m\n",
      "\n",
      "\n",
      "e12     \u001b[0m\u001b[1mV4      \u001b[0me13     \u001b[0m\u001b[1mV5      \u001b[0m\u001b[91me14     \u001b[0m\u001b[1mV6      \u001b[0me15     \u001b[0m\u001b[1mV7      \u001b[0me12     \u001b[0m\n",
      "\n",
      "\n",
      "        e16     \u001b[0m        e17     \u001b[0m        \u001b[91me18     \u001b[0m        e19     \u001b[0m\n",
      "\n",
      "\n",
      "e20     \u001b[0m\u001b[1mV8      \u001b[0me21     \u001b[0m\u001b[1mV9      \u001b[0m\u001b[91me22     \u001b[0m\u001b[1mV10     \u001b[0me23     \u001b[0m\u001b[1mV11     \u001b[0me20     \u001b[0m\n",
      "\n",
      "\n",
      "        e24     \u001b[0m        \u001b[91me25     \u001b[0m        e26     \u001b[0m        e27     \u001b[0m\n",
      "\n",
      "\n",
      "e28     \u001b[0m\u001b[1mV12     \u001b[0me29     \u001b[0m\u001b[1mV13     \u001b[0me30     \u001b[0m\u001b[1mV14     \u001b[0me31     \u001b[0m\u001b[1mV15     \u001b[0me28     \u001b[0m\n",
      "\n",
      "\n",
      "        e0      \u001b[0m        \u001b[91me1      \u001b[0m        e2      \u001b[0m        e3      \u001b[0m\n",
      "\n",
      "\n",
      "\n",
      "\n",
      "D = 4 repeating graph\n",
      "\n"
     ]
    }
   ],
   "source": [
    "edges_to_flip = [1, 9, 14, 18, 22, 25]\n",
    "flipped_vertices = graph.mark_vertices(edges_to_flip)\n",
    "\n",
    "graph.draw_graph(edges_to_flip, flipped_vertices)"
   ]
  },
  {
   "cell_type": "markdown",
   "metadata": {},
   "source": [
    "No vertices are in the `1` state!"
   ]
  }
 ],
 "metadata": {
  "kernelspec": {
   "display_name": "Python 3.9.16 64-bit",
   "language": "python",
   "name": "python3"
  },
  "language_info": {
   "codemirror_mode": {
    "name": "ipython",
    "version": 3
   },
   "file_extension": ".py",
   "mimetype": "text/x-python",
   "name": "python",
   "nbconvert_exporter": "python",
   "pygments_lexer": "ipython3",
   "version": "3.9.16"
  },
  "orig_nbformat": 4,
  "vscode": {
   "interpreter": {
    "hash": "949777d72b0d2535278d3dc13498b2535136f6dfe0678499012e853ee9abcab1"
   }
  }
 },
 "nbformat": 4,
 "nbformat_minor": 2
}
