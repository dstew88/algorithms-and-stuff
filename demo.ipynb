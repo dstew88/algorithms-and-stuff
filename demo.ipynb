{
 "cells": [
  {
   "cell_type": "markdown",
   "metadata": {},
   "source": [
    "# Graph Puzzle\n",
    "\n",
    "The following graph puzzle is entirely a classical computational problem, but has relevance to parts of quantum error correction.\n",
    "This notebook describes the problem in a slightly simplified way without using any confusing quantum information language.\n",
    "\n",
    "\n",
    "## Setting the stage for the puzzle\n",
    "\n",
    "Consider a periodic graph defined as coordinates over edges (`e`) and vertices (`V`) that are arranged in a `D` by `D` grid structure like so:"
   ]
  },
  {
   "cell_type": "code",
   "execution_count": 215,
   "metadata": {},
   "outputs": [
    {
     "name": "stdout",
     "output_type": "stream",
     "text": [
      "\n",
      "        e0      \u001b[0m        e1      \u001b[0m        e2      \u001b[0m        e3      \u001b[0m        e4      \u001b[0m\n",
      "\n",
      "\n",
      "e5      \u001b[0m\u001b[1mV0      \u001b[0me6      \u001b[0m\u001b[1mV1      \u001b[0me7      \u001b[0m\u001b[1mV2      \u001b[0me8      \u001b[0m\u001b[1mV3      \u001b[0me9      \u001b[0m\u001b[1mV4      \u001b[0me5      \u001b[0m\n",
      "\n",
      "\n",
      "        e10     \u001b[0m        e11     \u001b[0m        e12     \u001b[0m        e13     \u001b[0m        e14     \u001b[0m\n",
      "\n",
      "\n",
      "e15     \u001b[0m\u001b[1mV5      \u001b[0me16     \u001b[0m\u001b[1mV6      \u001b[0me17     \u001b[0m\u001b[1mV7      \u001b[0me18     \u001b[0m\u001b[1mV8      \u001b[0me19     \u001b[0m\u001b[1mV9      \u001b[0me15     \u001b[0m\n",
      "\n",
      "\n",
      "        e20     \u001b[0m        e21     \u001b[0m        e22     \u001b[0m        e23     \u001b[0m        e24     \u001b[0m\n",
      "\n",
      "\n",
      "e25     \u001b[0m\u001b[1mV10     \u001b[0me26     \u001b[0m\u001b[1mV11     \u001b[0me27     \u001b[0m\u001b[1mV12     \u001b[0me28     \u001b[0m\u001b[1mV13     \u001b[0me29     \u001b[0m\u001b[1mV14     \u001b[0me25     \u001b[0m\n",
      "\n",
      "\n",
      "        e30     \u001b[0m        e31     \u001b[0m        e32     \u001b[0m        e33     \u001b[0m        e34     \u001b[0m\n",
      "\n",
      "\n",
      "e35     \u001b[0m\u001b[1mV15     \u001b[0me36     \u001b[0m\u001b[1mV16     \u001b[0me37     \u001b[0m\u001b[1mV17     \u001b[0me38     \u001b[0m\u001b[1mV18     \u001b[0me39     \u001b[0m\u001b[1mV19     \u001b[0me35     \u001b[0m\n",
      "\n",
      "\n",
      "        e40     \u001b[0m        e41     \u001b[0m        e42     \u001b[0m        e43     \u001b[0m        e44     \u001b[0m\n",
      "\n",
      "\n",
      "e45     \u001b[0m\u001b[1mV20     \u001b[0me46     \u001b[0m\u001b[1mV21     \u001b[0me47     \u001b[0m\u001b[1mV22     \u001b[0me48     \u001b[0m\u001b[1mV23     \u001b[0me49     \u001b[0m\u001b[1mV24     \u001b[0me45     \u001b[0m\n",
      "\n",
      "\n",
      "        e0      \u001b[0m        e1      \u001b[0m        e2      \u001b[0m        e3      \u001b[0m        e4      \u001b[0m\n",
      "\n",
      "\n",
      "\n",
      "\n",
      "D = 5 periodic grid graph\n",
      "\n"
     ]
    }
   ],
   "source": [
    "from src.classical.periodic_grid_graph import PeriodicGridGraph\n",
    "\n",
    "graph = PeriodicGridGraph(5)\n",
    "graph.draw_graph()"
   ]
  },
  {
   "cell_type": "markdown",
   "metadata": {},
   "source": [
    "This example has a dimension of `D = 5`, and indexes run from left-to-right, top-to-bottom, for both edges and vertices.\n",
    "\n",
    "The graph has periodic boundary conditions, where the left/right and top/bottom set of edges are identical. In other words, the graph \"wraps around\" like a pacman grid - if you travel beyond the top of the grid you will re-emerge at the bottom, and vice versa. Same goes for left/right.\n",
    "\n",
    "You can see here that every edge connects 2 adjacent vertices, and every vertex has a degree of 4 (i.e. is incident to 4 edges).\n",
    "\n",
    "Here are the rules of the graph:\n",
    "\n",
    "- both edges and vertices can exist in one of two states: `0` or `1`;\n",
    "- if an edge is in the state `1`, then it flips the state of its 2 adjacent vertices;\n",
    "\n",
    "Let's take a look at the same graph again, where all edges and vertices are in the `0` state:"
   ]
  },
  {
   "cell_type": "code",
   "execution_count": 216,
   "metadata": {},
   "outputs": [
    {
     "name": "stdout",
     "output_type": "stream",
     "text": [
      "\n",
      "        e0      \u001b[0m        e1      \u001b[0m        e2      \u001b[0m        e3      \u001b[0m        e4      \u001b[0m\n",
      "\n",
      "\n",
      "e5      \u001b[0m\u001b[1mV0      \u001b[0me6      \u001b[0m\u001b[1mV1      \u001b[0me7      \u001b[0m\u001b[1mV2      \u001b[0me8      \u001b[0m\u001b[1mV3      \u001b[0me9      \u001b[0m\u001b[1mV4      \u001b[0me5      \u001b[0m\n",
      "\n",
      "\n",
      "        e10     \u001b[0m        e11     \u001b[0m        e12     \u001b[0m        e13     \u001b[0m        e14     \u001b[0m\n",
      "\n",
      "\n",
      "e15     \u001b[0m\u001b[1mV5      \u001b[0me16     \u001b[0m\u001b[1mV6      \u001b[0me17     \u001b[0m\u001b[1mV7      \u001b[0me18     \u001b[0m\u001b[1mV8      \u001b[0me19     \u001b[0m\u001b[1mV9      \u001b[0me15     \u001b[0m\n",
      "\n",
      "\n",
      "        e20     \u001b[0m        e21     \u001b[0m        e22     \u001b[0m        e23     \u001b[0m        e24     \u001b[0m\n",
      "\n",
      "\n",
      "e25     \u001b[0m\u001b[1mV10     \u001b[0me26     \u001b[0m\u001b[1mV11     \u001b[0me27     \u001b[0m\u001b[1mV12     \u001b[0me28     \u001b[0m\u001b[1mV13     \u001b[0me29     \u001b[0m\u001b[1mV14     \u001b[0me25     \u001b[0m\n",
      "\n",
      "\n",
      "        e30     \u001b[0m        e31     \u001b[0m        e32     \u001b[0m        e33     \u001b[0m        e34     \u001b[0m\n",
      "\n",
      "\n",
      "e35     \u001b[0m\u001b[1mV15     \u001b[0me36     \u001b[0m\u001b[1mV16     \u001b[0me37     \u001b[0m\u001b[1mV17     \u001b[0me38     \u001b[0m\u001b[1mV18     \u001b[0me39     \u001b[0m\u001b[1mV19     \u001b[0me35     \u001b[0m\n",
      "\n",
      "\n",
      "        e40     \u001b[0m        e41     \u001b[0m        e42     \u001b[0m        e43     \u001b[0m        e44     \u001b[0m\n",
      "\n",
      "\n",
      "e45     \u001b[0m\u001b[1mV20     \u001b[0me46     \u001b[0m\u001b[1mV21     \u001b[0me47     \u001b[0m\u001b[1mV22     \u001b[0me48     \u001b[0m\u001b[1mV23     \u001b[0me49     \u001b[0m\u001b[1mV24     \u001b[0me45     \u001b[0m\n",
      "\n",
      "\n",
      "        e0      \u001b[0m        e1      \u001b[0m        e2      \u001b[0m        e3      \u001b[0m        e4      \u001b[0m\n",
      "\n",
      "\n",
      "\n",
      "\n",
      "D = 5 periodic grid graph\n",
      "\n"
     ]
    }
   ],
   "source": [
    "graph.draw_graph()"
   ]
  },
  {
   "cell_type": "markdown",
   "metadata": {},
   "source": [
    "Let's see what happens when we flip the state of edge `e17`:"
   ]
  },
  {
   "cell_type": "code",
   "execution_count": 217,
   "metadata": {},
   "outputs": [
    {
     "name": "stdout",
     "output_type": "stream",
     "text": [
      "\n",
      "        e0      \u001b[0m        e1      \u001b[0m        e2      \u001b[0m        e3      \u001b[0m        e4      \u001b[0m\n",
      "\n",
      "\n",
      "e5      \u001b[0m\u001b[1mV0      \u001b[0me6      \u001b[0m\u001b[1mV1      \u001b[0me7      \u001b[0m\u001b[1mV2      \u001b[0me8      \u001b[0m\u001b[1mV3      \u001b[0me9      \u001b[0m\u001b[1mV4      \u001b[0me5      \u001b[0m\n",
      "\n",
      "\n",
      "        e10     \u001b[0m        e11     \u001b[0m        e12     \u001b[0m        e13     \u001b[0m        e14     \u001b[0m\n",
      "\n",
      "\n",
      "e15     \u001b[0m\u001b[1mV5      \u001b[0me16     \u001b[0m\u001b[93m\u001b[1mV6      \u001b[0m\u001b[91me17     \u001b[0m\u001b[93m\u001b[1mV7      \u001b[0me18     \u001b[0m\u001b[1mV8      \u001b[0me19     \u001b[0m\u001b[1mV9      \u001b[0me15     \u001b[0m\n",
      "\n",
      "\n",
      "        e20     \u001b[0m        e21     \u001b[0m        e22     \u001b[0m        e23     \u001b[0m        e24     \u001b[0m\n",
      "\n",
      "\n",
      "e25     \u001b[0m\u001b[1mV10     \u001b[0me26     \u001b[0m\u001b[1mV11     \u001b[0me27     \u001b[0m\u001b[1mV12     \u001b[0me28     \u001b[0m\u001b[1mV13     \u001b[0me29     \u001b[0m\u001b[1mV14     \u001b[0me25     \u001b[0m\n",
      "\n",
      "\n",
      "        e30     \u001b[0m        e31     \u001b[0m        e32     \u001b[0m        e33     \u001b[0m        e34     \u001b[0m\n",
      "\n",
      "\n",
      "e35     \u001b[0m\u001b[1mV15     \u001b[0me36     \u001b[0m\u001b[1mV16     \u001b[0me37     \u001b[0m\u001b[1mV17     \u001b[0me38     \u001b[0m\u001b[1mV18     \u001b[0me39     \u001b[0m\u001b[1mV19     \u001b[0me35     \u001b[0m\n",
      "\n",
      "\n",
      "        e40     \u001b[0m        e41     \u001b[0m        e42     \u001b[0m        e43     \u001b[0m        e44     \u001b[0m\n",
      "\n",
      "\n",
      "e45     \u001b[0m\u001b[1mV20     \u001b[0me46     \u001b[0m\u001b[1mV21     \u001b[0me47     \u001b[0m\u001b[1mV22     \u001b[0me48     \u001b[0m\u001b[1mV23     \u001b[0me49     \u001b[0m\u001b[1mV24     \u001b[0me45     \u001b[0m\n",
      "\n",
      "\n",
      "        e0      \u001b[0m        e1      \u001b[0m        e2      \u001b[0m        e3      \u001b[0m        e4      \u001b[0m\n",
      "\n",
      "\n",
      "\n",
      "\n",
      "D = 5 periodic grid graph\n",
      "\n"
     ]
    }
   ],
   "source": [
    "edges_to_flip = [17]\n",
    "flipped_vertices = graph.mark_vertices(edges_to_flip)\n",
    "\n",
    "graph.draw_graph(edges_to_flip, flipped_vertices)\n"
   ]
  },
  {
   "cell_type": "markdown",
   "metadata": {},
   "source": [
    "We see here that by flipping edge `e17` we have also flipped the state of vertices `V6` and `V7` from `0` to `1`.\n",
    "\n",
    "What happens if we also flip edge `e22`? Let's have a look:"
   ]
  },
  {
   "cell_type": "code",
   "execution_count": 218,
   "metadata": {},
   "outputs": [
    {
     "name": "stdout",
     "output_type": "stream",
     "text": [
      "\n",
      "        e0      \u001b[0m        e1      \u001b[0m        e2      \u001b[0m        e3      \u001b[0m        e4      \u001b[0m\n",
      "\n",
      "\n",
      "e5      \u001b[0m\u001b[1mV0      \u001b[0me6      \u001b[0m\u001b[1mV1      \u001b[0me7      \u001b[0m\u001b[1mV2      \u001b[0me8      \u001b[0m\u001b[1mV3      \u001b[0me9      \u001b[0m\u001b[1mV4      \u001b[0me5      \u001b[0m\n",
      "\n",
      "\n",
      "        e10     \u001b[0m        e11     \u001b[0m        e12     \u001b[0m        e13     \u001b[0m        e14     \u001b[0m\n",
      "\n",
      "\n",
      "e15     \u001b[0m\u001b[1mV5      \u001b[0me16     \u001b[0m\u001b[93m\u001b[1mV6      \u001b[0m\u001b[91me17     \u001b[0m\u001b[1mV7      \u001b[0me18     \u001b[0m\u001b[1mV8      \u001b[0me19     \u001b[0m\u001b[1mV9      \u001b[0me15     \u001b[0m\n",
      "\n",
      "\n",
      "        e20     \u001b[0m        e21     \u001b[0m        \u001b[91me22     \u001b[0m        e23     \u001b[0m        e24     \u001b[0m\n",
      "\n",
      "\n",
      "e25     \u001b[0m\u001b[1mV10     \u001b[0me26     \u001b[0m\u001b[1mV11     \u001b[0me27     \u001b[0m\u001b[93m\u001b[1mV12     \u001b[0me28     \u001b[0m\u001b[1mV13     \u001b[0me29     \u001b[0m\u001b[1mV14     \u001b[0me25     \u001b[0m\n",
      "\n",
      "\n",
      "        e30     \u001b[0m        e31     \u001b[0m        e32     \u001b[0m        e33     \u001b[0m        e34     \u001b[0m\n",
      "\n",
      "\n",
      "e35     \u001b[0m\u001b[1mV15     \u001b[0me36     \u001b[0m\u001b[1mV16     \u001b[0me37     \u001b[0m\u001b[1mV17     \u001b[0me38     \u001b[0m\u001b[1mV18     \u001b[0me39     \u001b[0m\u001b[1mV19     \u001b[0me35     \u001b[0m\n",
      "\n",
      "\n",
      "        e40     \u001b[0m        e41     \u001b[0m        e42     \u001b[0m        e43     \u001b[0m        e44     \u001b[0m\n",
      "\n",
      "\n",
      "e45     \u001b[0m\u001b[1mV20     \u001b[0me46     \u001b[0m\u001b[1mV21     \u001b[0me47     \u001b[0m\u001b[1mV22     \u001b[0me48     \u001b[0m\u001b[1mV23     \u001b[0me49     \u001b[0m\u001b[1mV24     \u001b[0me45     \u001b[0m\n",
      "\n",
      "\n",
      "        e0      \u001b[0m        e1      \u001b[0m        e2      \u001b[0m        e3      \u001b[0m        e4      \u001b[0m\n",
      "\n",
      "\n",
      "\n",
      "\n",
      "D = 5 periodic grid graph\n",
      "\n"
     ]
    }
   ],
   "source": [
    "edges_to_flip = [17, 22]\n",
    "flipped_vertices = graph.mark_vertices(edges_to_flip)\n",
    "\n",
    "graph.draw_graph(edges_to_flip, flipped_vertices)"
   ]
  },
  {
   "cell_type": "markdown",
   "metadata": {},
   "source": [
    "We see here that by flipping edges `e17` and `e22` we have also flipped the state of vertices `V6` and `V12` from `0` to `1`.\n",
    "\n",
    "But since both `e17` and `e22` have each flipped the state of `V7`, that vertex goes back to the original `0` state.\n",
    "This introduces the concept of the flipped edge \"chain\": given a chain of adjacent flipped edges, only vertices at the ends of the chain will be flipped.\n",
    "\n",
    "From all this, we see that <u>flipped vertices always appear in pairs</u>.\n",
    "\n",
    "What happens when we flip the states of edges `e21` and `e27`?"
   ]
  },
  {
   "cell_type": "code",
   "execution_count": 219,
   "metadata": {},
   "outputs": [
    {
     "name": "stdout",
     "output_type": "stream",
     "text": [
      "\n",
      "        e0      \u001b[0m        e1      \u001b[0m        e2      \u001b[0m        e3      \u001b[0m        e4      \u001b[0m\n",
      "\n",
      "\n",
      "e5      \u001b[0m\u001b[1mV0      \u001b[0me6      \u001b[0m\u001b[1mV1      \u001b[0me7      \u001b[0m\u001b[1mV2      \u001b[0me8      \u001b[0m\u001b[1mV3      \u001b[0me9      \u001b[0m\u001b[1mV4      \u001b[0me5      \u001b[0m\n",
      "\n",
      "\n",
      "        e10     \u001b[0m        e11     \u001b[0m        e12     \u001b[0m        e13     \u001b[0m        e14     \u001b[0m\n",
      "\n",
      "\n",
      "e15     \u001b[0m\u001b[1mV5      \u001b[0me16     \u001b[0m\u001b[93m\u001b[1mV6      \u001b[0me17     \u001b[0m\u001b[1mV7      \u001b[0me18     \u001b[0m\u001b[1mV8      \u001b[0me19     \u001b[0m\u001b[1mV9      \u001b[0me15     \u001b[0m\n",
      "\n",
      "\n",
      "        e20     \u001b[0m        \u001b[91me21     \u001b[0m        e22     \u001b[0m        e23     \u001b[0m        e24     \u001b[0m\n",
      "\n",
      "\n",
      "e25     \u001b[0m\u001b[1mV10     \u001b[0me26     \u001b[0m\u001b[1mV11     \u001b[0m\u001b[91me27     \u001b[0m\u001b[93m\u001b[1mV12     \u001b[0me28     \u001b[0m\u001b[1mV13     \u001b[0me29     \u001b[0m\u001b[1mV14     \u001b[0me25     \u001b[0m\n",
      "\n",
      "\n",
      "        e30     \u001b[0m        e31     \u001b[0m        e32     \u001b[0m        e33     \u001b[0m        e34     \u001b[0m\n",
      "\n",
      "\n",
      "e35     \u001b[0m\u001b[1mV15     \u001b[0me36     \u001b[0m\u001b[1mV16     \u001b[0me37     \u001b[0m\u001b[1mV17     \u001b[0me38     \u001b[0m\u001b[1mV18     \u001b[0me39     \u001b[0m\u001b[1mV19     \u001b[0me35     \u001b[0m\n",
      "\n",
      "\n",
      "        e40     \u001b[0m        e41     \u001b[0m        e42     \u001b[0m        e43     \u001b[0m        e44     \u001b[0m\n",
      "\n",
      "\n",
      "e45     \u001b[0m\u001b[1mV20     \u001b[0me46     \u001b[0m\u001b[1mV21     \u001b[0me47     \u001b[0m\u001b[1mV22     \u001b[0me48     \u001b[0m\u001b[1mV23     \u001b[0me49     \u001b[0m\u001b[1mV24     \u001b[0me45     \u001b[0m\n",
      "\n",
      "\n",
      "        e0      \u001b[0m        e1      \u001b[0m        e2      \u001b[0m        e3      \u001b[0m        e4      \u001b[0m\n",
      "\n",
      "\n",
      "\n",
      "\n",
      "D = 5 periodic grid graph\n",
      "\n"
     ]
    }
   ],
   "source": [
    "edges_to_flip = [21, 27]\n",
    "flipped_vertices = graph.mark_vertices(edges_to_flip)\n",
    "\n",
    "graph.draw_graph(edges_to_flip, flipped_vertices)"
   ]
  },
  {
   "cell_type": "markdown",
   "metadata": {},
   "source": [
    "We see that this has resulted in flipping the exact same vertices that edges `e17` and `e22` did!\n",
    "\n",
    "A similar thing can happen if the flipped edge chain crosses one of the boundaries.\n",
    "Consider what happens when we flip edges `e25`, `e26` and `e27`:"
   ]
  },
  {
   "cell_type": "code",
   "execution_count": 220,
   "metadata": {},
   "outputs": [
    {
     "name": "stdout",
     "output_type": "stream",
     "text": [
      "\n",
      "        e0      \u001b[0m        e1      \u001b[0m        e2      \u001b[0m        e3      \u001b[0m        e4      \u001b[0m\n",
      "\n",
      "\n",
      "e5      \u001b[0m\u001b[1mV0      \u001b[0me6      \u001b[0m\u001b[1mV1      \u001b[0me7      \u001b[0m\u001b[1mV2      \u001b[0me8      \u001b[0m\u001b[1mV3      \u001b[0me9      \u001b[0m\u001b[1mV4      \u001b[0me5      \u001b[0m\n",
      "\n",
      "\n",
      "        e10     \u001b[0m        e11     \u001b[0m        e12     \u001b[0m        e13     \u001b[0m        e14     \u001b[0m\n",
      "\n",
      "\n",
      "e15     \u001b[0m\u001b[1mV5      \u001b[0me16     \u001b[0m\u001b[1mV6      \u001b[0me17     \u001b[0m\u001b[1mV7      \u001b[0me18     \u001b[0m\u001b[1mV8      \u001b[0me19     \u001b[0m\u001b[1mV9      \u001b[0me15     \u001b[0m\n",
      "\n",
      "\n",
      "        e20     \u001b[0m        e21     \u001b[0m        e22     \u001b[0m        e23     \u001b[0m        e24     \u001b[0m\n",
      "\n",
      "\n",
      "\u001b[91me25     \u001b[0m\u001b[1mV10     \u001b[0m\u001b[91me26     \u001b[0m\u001b[1mV11     \u001b[0m\u001b[91me27     \u001b[0m\u001b[93m\u001b[1mV12     \u001b[0me28     \u001b[0m\u001b[1mV13     \u001b[0me29     \u001b[0m\u001b[93m\u001b[1mV14     \u001b[0m\u001b[91me25     \u001b[0m\n",
      "\n",
      "\n",
      "        e30     \u001b[0m        e31     \u001b[0m        e32     \u001b[0m        e33     \u001b[0m        e34     \u001b[0m\n",
      "\n",
      "\n",
      "e35     \u001b[0m\u001b[1mV15     \u001b[0me36     \u001b[0m\u001b[1mV16     \u001b[0me37     \u001b[0m\u001b[1mV17     \u001b[0me38     \u001b[0m\u001b[1mV18     \u001b[0me39     \u001b[0m\u001b[1mV19     \u001b[0me35     \u001b[0m\n",
      "\n",
      "\n",
      "        e40     \u001b[0m        e41     \u001b[0m        e42     \u001b[0m        e43     \u001b[0m        e44     \u001b[0m\n",
      "\n",
      "\n",
      "e45     \u001b[0m\u001b[1mV20     \u001b[0me46     \u001b[0m\u001b[1mV21     \u001b[0me47     \u001b[0m\u001b[1mV22     \u001b[0me48     \u001b[0m\u001b[1mV23     \u001b[0me49     \u001b[0m\u001b[1mV24     \u001b[0me45     \u001b[0m\n",
      "\n",
      "\n",
      "        e0      \u001b[0m        e1      \u001b[0m        e2      \u001b[0m        e3      \u001b[0m        e4      \u001b[0m\n",
      "\n",
      "\n",
      "\n",
      "\n",
      "D = 5 periodic grid graph\n",
      "\n"
     ]
    }
   ],
   "source": [
    "edges_to_flip = [25, 26, 27]\n",
    "flipped_vertices = graph.mark_vertices(edges_to_flip)\n",
    "\n",
    "graph.draw_graph(edges_to_flip, flipped_vertices)"
   ]
  },
  {
   "cell_type": "markdown",
   "metadata": {},
   "source": [
    "The eagle-eyed will notice the same vertices would be flipped if edges `e28` and `e29` were flipped. In fact, there are quite a few edge chains that would do this, for example:"
   ]
  },
  {
   "cell_type": "code",
   "execution_count": 221,
   "metadata": {},
   "outputs": [
    {
     "name": "stdout",
     "output_type": "stream",
     "text": [
      "\n",
      "        e0      \u001b[0m        e1      \u001b[0m        e2      \u001b[0m        e3      \u001b[0m        e4      \u001b[0m\n",
      "\n",
      "\n",
      "e5      \u001b[0m\u001b[1mV0      \u001b[0m\u001b[91me6      \u001b[0m\u001b[1mV1      \u001b[0m\u001b[91me7      \u001b[0m\u001b[1mV2      \u001b[0m\u001b[91me8      \u001b[0m\u001b[1mV3      \u001b[0m\u001b[91me9      \u001b[0m\u001b[1mV4      \u001b[0me5      \u001b[0m\n",
      "\n",
      "\n",
      "        \u001b[91me10     \u001b[0m        e11     \u001b[0m        e12     \u001b[0m        e13     \u001b[0m        \u001b[91me14     \u001b[0m\n",
      "\n",
      "\n",
      "e15     \u001b[0m\u001b[1mV5      \u001b[0m\u001b[91me16     \u001b[0m\u001b[1mV6      \u001b[0m\u001b[91me17     \u001b[0m\u001b[1mV7      \u001b[0me18     \u001b[0m\u001b[1mV8      \u001b[0me19     \u001b[0m\u001b[1mV9      \u001b[0me15     \u001b[0m\n",
      "\n",
      "\n",
      "        e20     \u001b[0m        e21     \u001b[0m        \u001b[91me22     \u001b[0m        e23     \u001b[0m        \u001b[91me24     \u001b[0m\n",
      "\n",
      "\n",
      "e25     \u001b[0m\u001b[1mV10     \u001b[0me26     \u001b[0m\u001b[1mV11     \u001b[0me27     \u001b[0m\u001b[93m\u001b[1mV12     \u001b[0me28     \u001b[0m\u001b[1mV13     \u001b[0me29     \u001b[0m\u001b[93m\u001b[1mV14     \u001b[0me25     \u001b[0m\n",
      "\n",
      "\n",
      "        e30     \u001b[0m        e31     \u001b[0m        e32     \u001b[0m        e33     \u001b[0m        e34     \u001b[0m\n",
      "\n",
      "\n",
      "e35     \u001b[0m\u001b[1mV15     \u001b[0me36     \u001b[0m\u001b[1mV16     \u001b[0me37     \u001b[0m\u001b[1mV17     \u001b[0me38     \u001b[0m\u001b[1mV18     \u001b[0me39     \u001b[0m\u001b[1mV19     \u001b[0me35     \u001b[0m\n",
      "\n",
      "\n",
      "        e40     \u001b[0m        e41     \u001b[0m        e42     \u001b[0m        e43     \u001b[0m        e44     \u001b[0m\n",
      "\n",
      "\n",
      "e45     \u001b[0m\u001b[1mV20     \u001b[0me46     \u001b[0m\u001b[1mV21     \u001b[0me47     \u001b[0m\u001b[1mV22     \u001b[0me48     \u001b[0m\u001b[1mV23     \u001b[0me49     \u001b[0m\u001b[1mV24     \u001b[0me45     \u001b[0m\n",
      "\n",
      "\n",
      "        e0      \u001b[0m        e1      \u001b[0m        e2      \u001b[0m        e3      \u001b[0m        e4      \u001b[0m\n",
      "\n",
      "\n",
      "\n",
      "\n",
      "D = 5 periodic grid graph\n",
      "\n"
     ]
    }
   ],
   "source": [
    "edges_to_flip = [6, 7, 8, 9, 10, 14, 16, 17, 22, 24]\n",
    "flipped_vertices = graph.mark_vertices(edges_to_flip)\n",
    "\n",
    "graph.draw_graph(edges_to_flip, flipped_vertices)"
   ]
  },
  {
   "cell_type": "markdown",
   "metadata": {},
   "source": [
    "We see here that many chains can be equivalent with respect to the vertices that are ultimately flipped.\n",
    "\n",
    "Of course, edges flipped on different areas of the graph will result in even more flipped vertex pairs:"
   ]
  },
  {
   "cell_type": "code",
   "execution_count": 222,
   "metadata": {},
   "outputs": [
    {
     "name": "stdout",
     "output_type": "stream",
     "text": [
      "\n",
      "        e0      \u001b[0m        e1      \u001b[0m        e2      \u001b[0m        e3      \u001b[0m        e4      \u001b[0m\n",
      "\n",
      "\n",
      "e5      \u001b[0m\u001b[1mV0      \u001b[0me6      \u001b[0m\u001b[1mV1      \u001b[0me7      \u001b[0m\u001b[93m\u001b[1mV2      \u001b[0m\u001b[91me8      \u001b[0m\u001b[1mV3      \u001b[0m\u001b[91me9      \u001b[0m\u001b[1mV4      \u001b[0me5      \u001b[0m\n",
      "\n",
      "\n",
      "        e10     \u001b[0m        e11     \u001b[0m        e12     \u001b[0m        e13     \u001b[0m        \u001b[91me14     \u001b[0m\n",
      "\n",
      "\n",
      "e15     \u001b[0m\u001b[93m\u001b[1mV5      \u001b[0me16     \u001b[0m\u001b[1mV6      \u001b[0me17     \u001b[0m\u001b[1mV7      \u001b[0me18     \u001b[0m\u001b[1mV8      \u001b[0me19     \u001b[0m\u001b[1mV9      \u001b[0me15     \u001b[0m\n",
      "\n",
      "\n",
      "        \u001b[91me20     \u001b[0m        e21     \u001b[0m        e22     \u001b[0m        e23     \u001b[0m        \u001b[91me24     \u001b[0m\n",
      "\n",
      "\n",
      "e25     \u001b[0m\u001b[1mV10     \u001b[0m\u001b[91me26     \u001b[0m\u001b[93m\u001b[1mV11     \u001b[0me27     \u001b[0m\u001b[1mV12     \u001b[0me28     \u001b[0m\u001b[1mV13     \u001b[0me29     \u001b[0m\u001b[93m\u001b[1mV14     \u001b[0me25     \u001b[0m\n",
      "\n",
      "\n",
      "        e30     \u001b[0m        e31     \u001b[0m        e32     \u001b[0m        e33     \u001b[0m        e34     \u001b[0m\n",
      "\n",
      "\n",
      "e35     \u001b[0m\u001b[1mV15     \u001b[0me36     \u001b[0m\u001b[1mV16     \u001b[0me37     \u001b[0m\u001b[1mV17     \u001b[0me38     \u001b[0m\u001b[1mV18     \u001b[0me39     \u001b[0m\u001b[1mV19     \u001b[0me35     \u001b[0m\n",
      "\n",
      "\n",
      "        e40     \u001b[0m        e41     \u001b[0m        e42     \u001b[0m        e43     \u001b[0m        e44     \u001b[0m\n",
      "\n",
      "\n",
      "e45     \u001b[0m\u001b[1mV20     \u001b[0me46     \u001b[0m\u001b[1mV21     \u001b[0me47     \u001b[0m\u001b[1mV22     \u001b[0me48     \u001b[0m\u001b[1mV23     \u001b[0me49     \u001b[0m\u001b[1mV24     \u001b[0me45     \u001b[0m\n",
      "\n",
      "\n",
      "        e0      \u001b[0m        e1      \u001b[0m        e2      \u001b[0m        e3      \u001b[0m        e4      \u001b[0m\n",
      "\n",
      "\n",
      "\n",
      "\n",
      "D = 5 periodic grid graph\n",
      "\n"
     ]
    }
   ],
   "source": [
    "edges_to_flip = [8, 9, 14, 20, 24, 26]\n",
    "flipped_vertices = graph.mark_vertices(edges_to_flip)\n",
    "\n",
    "graph.draw_graph(edges_to_flip, flipped_vertices)"
   ]
  },
  {
   "cell_type": "markdown",
   "metadata": {},
   "source": [
    "What happens when an edge chain goes from end-to-end either top/bottom or left/right? Let's see:"
   ]
  },
  {
   "cell_type": "code",
   "execution_count": 223,
   "metadata": {},
   "outputs": [
    {
     "name": "stdout",
     "output_type": "stream",
     "text": [
      "\n",
      "        e0      \u001b[0m        \u001b[91me1      \u001b[0m        e2      \u001b[0m        e3      \u001b[0m        e4      \u001b[0m\n",
      "\n",
      "\n",
      "e5      \u001b[0m\u001b[1mV0      \u001b[0me6      \u001b[0m\u001b[1mV1      \u001b[0m\u001b[91me7      \u001b[0m\u001b[1mV2      \u001b[0me8      \u001b[0m\u001b[1mV3      \u001b[0me9      \u001b[0m\u001b[1mV4      \u001b[0me5      \u001b[0m\n",
      "\n",
      "\n",
      "        e10     \u001b[0m        e11     \u001b[0m        \u001b[91me12     \u001b[0m        e13     \u001b[0m        e14     \u001b[0m\n",
      "\n",
      "\n",
      "e15     \u001b[0m\u001b[1mV5      \u001b[0me16     \u001b[0m\u001b[1mV6      \u001b[0m\u001b[91me17     \u001b[0m\u001b[1mV7      \u001b[0me18     \u001b[0m\u001b[1mV8      \u001b[0me19     \u001b[0m\u001b[1mV9      \u001b[0me15     \u001b[0m\n",
      "\n",
      "\n",
      "        e20     \u001b[0m        \u001b[91me21     \u001b[0m        e22     \u001b[0m        e23     \u001b[0m        e24     \u001b[0m\n",
      "\n",
      "\n",
      "e25     \u001b[0m\u001b[1mV10     \u001b[0me26     \u001b[0m\u001b[1mV11     \u001b[0me27     \u001b[0m\u001b[1mV12     \u001b[0me28     \u001b[0m\u001b[1mV13     \u001b[0me29     \u001b[0m\u001b[1mV14     \u001b[0me25     \u001b[0m\n",
      "\n",
      "\n",
      "        e30     \u001b[0m        \u001b[91me31     \u001b[0m        e32     \u001b[0m        e33     \u001b[0m        e34     \u001b[0m\n",
      "\n",
      "\n",
      "e35     \u001b[0m\u001b[1mV15     \u001b[0me36     \u001b[0m\u001b[1mV16     \u001b[0me37     \u001b[0m\u001b[1mV17     \u001b[0me38     \u001b[0m\u001b[1mV18     \u001b[0me39     \u001b[0m\u001b[1mV19     \u001b[0me35     \u001b[0m\n",
      "\n",
      "\n",
      "        e40     \u001b[0m        \u001b[91me41     \u001b[0m        e42     \u001b[0m        e43     \u001b[0m        e44     \u001b[0m\n",
      "\n",
      "\n",
      "e45     \u001b[0m\u001b[1mV20     \u001b[0me46     \u001b[0m\u001b[1mV21     \u001b[0me47     \u001b[0m\u001b[1mV22     \u001b[0me48     \u001b[0m\u001b[1mV23     \u001b[0me49     \u001b[0m\u001b[1mV24     \u001b[0me45     \u001b[0m\n",
      "\n",
      "\n",
      "        e0      \u001b[0m        \u001b[91me1      \u001b[0m        e2      \u001b[0m        e3      \u001b[0m        e4      \u001b[0m\n",
      "\n",
      "\n",
      "\n",
      "\n",
      "D = 5 periodic grid graph\n",
      "\n"
     ]
    }
   ],
   "source": [
    "edges_to_flip = [1, 7, 12, 17, 21, 31, 41]\n",
    "flipped_vertices = graph.mark_vertices(edges_to_flip)\n",
    "\n",
    "graph.draw_graph(edges_to_flip, flipped_vertices)"
   ]
  },
  {
   "cell_type": "markdown",
   "metadata": {},
   "source": [
    "No vertices are in the `1` state! For now this isn't too important, but is interesting to note.\n",
    "\n",
    "\n",
    "## The puzzle itself\n",
    "\n",
    "Now we have defined the structure of the problem, an interesting question arises: given a grid which has some of its vertices flipped, can you determine the shortest edge chains that connect pairs of the flipped vertices?\n",
    "\n",
    "In other words, how do we set the state of all flipped vertices back to `0` by flipping the smallest number of edges?\n",
    "\n",
    "For example, consider this grid:"
   ]
  },
  {
   "cell_type": "code",
   "execution_count": 224,
   "metadata": {},
   "outputs": [
    {
     "name": "stdout",
     "output_type": "stream",
     "text": [
      "\n",
      "        e0      \u001b[0m        e1      \u001b[0m        e2      \u001b[0m        e3      \u001b[0m        e4      \u001b[0m        e5      \u001b[0m\n",
      "\n",
      "\n",
      "e6      \u001b[0m\u001b[1mV0      \u001b[0me7      \u001b[0m\u001b[1mV1      \u001b[0me8      \u001b[0m\u001b[1mV2      \u001b[0me9      \u001b[0m\u001b[93m\u001b[1mV3      \u001b[0me10     \u001b[0m\u001b[1mV4      \u001b[0me11     \u001b[0m\u001b[1mV5      \u001b[0me6      \u001b[0m\n",
      "\n",
      "\n",
      "        e12     \u001b[0m        e13     \u001b[0m        e14     \u001b[0m        e15     \u001b[0m        e16     \u001b[0m        e17     \u001b[0m\n",
      "\n",
      "\n",
      "e18     \u001b[0m\u001b[1mV6      \u001b[0me19     \u001b[0m\u001b[1mV7      \u001b[0me20     \u001b[0m\u001b[1mV8      \u001b[0me21     \u001b[0m\u001b[1mV9      \u001b[0me22     \u001b[0m\u001b[1mV10     \u001b[0me23     \u001b[0m\u001b[1mV11     \u001b[0me18     \u001b[0m\n",
      "\n",
      "\n",
      "        e24     \u001b[0m        e25     \u001b[0m        e26     \u001b[0m        e27     \u001b[0m        e28     \u001b[0m        e29     \u001b[0m\n",
      "\n",
      "\n",
      "e30     \u001b[0m\u001b[93m\u001b[1mV12     \u001b[0me31     \u001b[0m\u001b[1mV13     \u001b[0me32     \u001b[0m\u001b[1mV14     \u001b[0me33     \u001b[0m\u001b[93m\u001b[1mV15     \u001b[0me34     \u001b[0m\u001b[1mV16     \u001b[0me35     \u001b[0m\u001b[1mV17     \u001b[0me30     \u001b[0m\n",
      "\n",
      "\n",
      "        e36     \u001b[0m        e37     \u001b[0m        e38     \u001b[0m        e39     \u001b[0m        e40     \u001b[0m        e41     \u001b[0m\n",
      "\n",
      "\n",
      "e42     \u001b[0m\u001b[1mV18     \u001b[0me43     \u001b[0m\u001b[93m\u001b[1mV19     \u001b[0me44     \u001b[0m\u001b[1mV20     \u001b[0me45     \u001b[0m\u001b[1mV21     \u001b[0me46     \u001b[0m\u001b[1mV22     \u001b[0me47     \u001b[0m\u001b[1mV23     \u001b[0me42     \u001b[0m\n",
      "\n",
      "\n",
      "        e48     \u001b[0m        e49     \u001b[0m        e50     \u001b[0m        e51     \u001b[0m        e52     \u001b[0m        e53     \u001b[0m\n",
      "\n",
      "\n",
      "e54     \u001b[0m\u001b[1mV24     \u001b[0me55     \u001b[0m\u001b[1mV25     \u001b[0me56     \u001b[0m\u001b[1mV26     \u001b[0me57     \u001b[0m\u001b[1mV27     \u001b[0me58     \u001b[0m\u001b[1mV28     \u001b[0me59     \u001b[0m\u001b[1mV29     \u001b[0me54     \u001b[0m\n",
      "\n",
      "\n",
      "        e60     \u001b[0m        e61     \u001b[0m        e62     \u001b[0m        e63     \u001b[0m        e64     \u001b[0m        e65     \u001b[0m\n",
      "\n",
      "\n",
      "e66     \u001b[0m\u001b[1mV30     \u001b[0me67     \u001b[0m\u001b[1mV31     \u001b[0me68     \u001b[0m\u001b[1mV32     \u001b[0me69     \u001b[0m\u001b[1mV33     \u001b[0me70     \u001b[0m\u001b[1mV34     \u001b[0me71     \u001b[0m\u001b[1mV35     \u001b[0me66     \u001b[0m\n",
      "\n",
      "\n",
      "        e0      \u001b[0m        e1      \u001b[0m        e2      \u001b[0m        e3      \u001b[0m        e4      \u001b[0m        e5      \u001b[0m\n",
      "\n",
      "\n",
      "\n",
      "\n",
      "D = 6 periodic grid graph\n",
      "\n"
     ]
    }
   ],
   "source": [
    "graph = PeriodicGridGraph(6)\n",
    "flipped_vertices = [3, 12, 15, 19]\n",
    "graph.draw_graph(vertices=flipped_vertices)"
   ]
  },
  {
   "cell_type": "markdown",
   "metadata": {},
   "source": [
    "Here, the shortest path between vertices `V3` and `V15` is via edges `e15` and `e27`.\n",
    "\n",
    "For vertices `V12` and `V19` there are two equivalent paths: via edges `e30` and `e36` or edges `e26` and `e31`.\n",
    "\n",
    "There are other paths that connect different vertex pairs, but not of these is shorter than the ones described already.\n",
    "\n",
    "What if we add a few more vertices?"
   ]
  },
  {
   "cell_type": "code",
   "execution_count": 225,
   "metadata": {},
   "outputs": [
    {
     "name": "stdout",
     "output_type": "stream",
     "text": [
      "\n",
      "        e0      \u001b[0m        e1      \u001b[0m        e2      \u001b[0m        e3      \u001b[0m        e4      \u001b[0m        e5      \u001b[0m\n",
      "\n",
      "\n",
      "e6      \u001b[0m\u001b[93m\u001b[1mV0      \u001b[0me7      \u001b[0m\u001b[1mV1      \u001b[0me8      \u001b[0m\u001b[1mV2      \u001b[0me9      \u001b[0m\u001b[93m\u001b[1mV3      \u001b[0me10     \u001b[0m\u001b[1mV4      \u001b[0me11     \u001b[0m\u001b[93m\u001b[1mV5      \u001b[0me6      \u001b[0m\n",
      "\n",
      "\n",
      "        e12     \u001b[0m        e13     \u001b[0m        e14     \u001b[0m        e15     \u001b[0m        e16     \u001b[0m        e17     \u001b[0m\n",
      "\n",
      "\n",
      "e18     \u001b[0m\u001b[1mV6      \u001b[0me19     \u001b[0m\u001b[1mV7      \u001b[0me20     \u001b[0m\u001b[1mV8      \u001b[0me21     \u001b[0m\u001b[1mV9      \u001b[0me22     \u001b[0m\u001b[1mV10     \u001b[0me23     \u001b[0m\u001b[1mV11     \u001b[0me18     \u001b[0m\n",
      "\n",
      "\n",
      "        e24     \u001b[0m        e25     \u001b[0m        e26     \u001b[0m        e27     \u001b[0m        e28     \u001b[0m        e29     \u001b[0m\n",
      "\n",
      "\n",
      "e30     \u001b[0m\u001b[93m\u001b[1mV12     \u001b[0me31     \u001b[0m\u001b[1mV13     \u001b[0me32     \u001b[0m\u001b[1mV14     \u001b[0me33     \u001b[0m\u001b[93m\u001b[1mV15     \u001b[0me34     \u001b[0m\u001b[1mV16     \u001b[0me35     \u001b[0m\u001b[1mV17     \u001b[0me30     \u001b[0m\n",
      "\n",
      "\n",
      "        e36     \u001b[0m        e37     \u001b[0m        e38     \u001b[0m        e39     \u001b[0m        e40     \u001b[0m        e41     \u001b[0m\n",
      "\n",
      "\n",
      "e42     \u001b[0m\u001b[1mV18     \u001b[0me43     \u001b[0m\u001b[93m\u001b[1mV19     \u001b[0me44     \u001b[0m\u001b[1mV20     \u001b[0me45     \u001b[0m\u001b[1mV21     \u001b[0me46     \u001b[0m\u001b[1mV22     \u001b[0me47     \u001b[0m\u001b[1mV23     \u001b[0me42     \u001b[0m\n",
      "\n",
      "\n",
      "        e48     \u001b[0m        e49     \u001b[0m        e50     \u001b[0m        e51     \u001b[0m        e52     \u001b[0m        e53     \u001b[0m\n",
      "\n",
      "\n",
      "e54     \u001b[0m\u001b[1mV24     \u001b[0me55     \u001b[0m\u001b[1mV25     \u001b[0me56     \u001b[0m\u001b[1mV26     \u001b[0me57     \u001b[0m\u001b[1mV27     \u001b[0me58     \u001b[0m\u001b[1mV28     \u001b[0me59     \u001b[0m\u001b[1mV29     \u001b[0me54     \u001b[0m\n",
      "\n",
      "\n",
      "        e60     \u001b[0m        e61     \u001b[0m        e62     \u001b[0m        e63     \u001b[0m        e64     \u001b[0m        e65     \u001b[0m\n",
      "\n",
      "\n",
      "e66     \u001b[0m\u001b[1mV30     \u001b[0me67     \u001b[0m\u001b[1mV31     \u001b[0me68     \u001b[0m\u001b[1mV32     \u001b[0me69     \u001b[0m\u001b[1mV33     \u001b[0me70     \u001b[0m\u001b[1mV34     \u001b[0me71     \u001b[0m\u001b[1mV35     \u001b[0me66     \u001b[0m\n",
      "\n",
      "\n",
      "        e0      \u001b[0m        e1      \u001b[0m        e2      \u001b[0m        e3      \u001b[0m        e4      \u001b[0m        e5      \u001b[0m\n",
      "\n",
      "\n",
      "\n",
      "\n",
      "D = 6 periodic grid graph\n",
      "\n"
     ]
    }
   ],
   "source": [
    "flipped_vertices = [0, 3, 5, 12, 15, 19]\n",
    "graph.draw_graph(vertices=flipped_vertices)"
   ]
  },
  {
   "cell_type": "markdown",
   "metadata": {},
   "source": [
    "It's tempting to say that vertices `V3` and `V5` could be paired up via edges `e10` and `e11`, leaving `V15` to be paired with some other vertex.\n",
    "\n",
    "But if we recall the periodic boundary conditions then we see that `V5` can actually be flipped by a shorter path to `V0` via edge `e6`:"
   ]
  },
  {
   "cell_type": "code",
   "execution_count": 226,
   "metadata": {},
   "outputs": [
    {
     "name": "stdout",
     "output_type": "stream",
     "text": [
      "\n",
      "        e0      \u001b[0m        e1      \u001b[0m        e2      \u001b[0m        e3      \u001b[0m        e4      \u001b[0m        e5      \u001b[0m\n",
      "\n",
      "\n",
      "\u001b[91me6      \u001b[0m\u001b[93m\u001b[1mV0      \u001b[0me7      \u001b[0m\u001b[1mV1      \u001b[0me8      \u001b[0m\u001b[1mV2      \u001b[0me9      \u001b[0m\u001b[93m\u001b[1mV3      \u001b[0me10     \u001b[0m\u001b[1mV4      \u001b[0me11     \u001b[0m\u001b[93m\u001b[1mV5      \u001b[0m\u001b[91me6      \u001b[0m\n",
      "\n",
      "\n",
      "        e12     \u001b[0m        e13     \u001b[0m        e14     \u001b[0m        \u001b[91me15     \u001b[0m        e16     \u001b[0m        e17     \u001b[0m\n",
      "\n",
      "\n",
      "e18     \u001b[0m\u001b[1mV6      \u001b[0me19     \u001b[0m\u001b[1mV7      \u001b[0me20     \u001b[0m\u001b[1mV8      \u001b[0me21     \u001b[0m\u001b[1mV9      \u001b[0me22     \u001b[0m\u001b[1mV10     \u001b[0me23     \u001b[0m\u001b[1mV11     \u001b[0me18     \u001b[0m\n",
      "\n",
      "\n",
      "        e24     \u001b[0m        e25     \u001b[0m        e26     \u001b[0m        \u001b[91me27     \u001b[0m        e28     \u001b[0m        e29     \u001b[0m\n",
      "\n",
      "\n",
      "e30     \u001b[0m\u001b[93m\u001b[1mV12     \u001b[0me31     \u001b[0m\u001b[1mV13     \u001b[0me32     \u001b[0m\u001b[1mV14     \u001b[0me33     \u001b[0m\u001b[93m\u001b[1mV15     \u001b[0me34     \u001b[0m\u001b[1mV16     \u001b[0me35     \u001b[0m\u001b[1mV17     \u001b[0me30     \u001b[0m\n",
      "\n",
      "\n",
      "        \u001b[91me36     \u001b[0m        e37     \u001b[0m        e38     \u001b[0m        e39     \u001b[0m        e40     \u001b[0m        e41     \u001b[0m\n",
      "\n",
      "\n",
      "e42     \u001b[0m\u001b[1mV18     \u001b[0m\u001b[91me43     \u001b[0m\u001b[93m\u001b[1mV19     \u001b[0me44     \u001b[0m\u001b[1mV20     \u001b[0me45     \u001b[0m\u001b[1mV21     \u001b[0me46     \u001b[0m\u001b[1mV22     \u001b[0me47     \u001b[0m\u001b[1mV23     \u001b[0me42     \u001b[0m\n",
      "\n",
      "\n",
      "        e48     \u001b[0m        e49     \u001b[0m        e50     \u001b[0m        e51     \u001b[0m        e52     \u001b[0m        e53     \u001b[0m\n",
      "\n",
      "\n",
      "e54     \u001b[0m\u001b[1mV24     \u001b[0me55     \u001b[0m\u001b[1mV25     \u001b[0me56     \u001b[0m\u001b[1mV26     \u001b[0me57     \u001b[0m\u001b[1mV27     \u001b[0me58     \u001b[0m\u001b[1mV28     \u001b[0me59     \u001b[0m\u001b[1mV29     \u001b[0me54     \u001b[0m\n",
      "\n",
      "\n",
      "        e60     \u001b[0m        e61     \u001b[0m        e62     \u001b[0m        e63     \u001b[0m        e64     \u001b[0m        e65     \u001b[0m\n",
      "\n",
      "\n",
      "e66     \u001b[0m\u001b[1mV30     \u001b[0me67     \u001b[0m\u001b[1mV31     \u001b[0me68     \u001b[0m\u001b[1mV32     \u001b[0me69     \u001b[0m\u001b[1mV33     \u001b[0me70     \u001b[0m\u001b[1mV34     \u001b[0me71     \u001b[0m\u001b[1mV35     \u001b[0me66     \u001b[0m\n",
      "\n",
      "\n",
      "        e0      \u001b[0m        e1      \u001b[0m        e2      \u001b[0m        e3      \u001b[0m        e4      \u001b[0m        e5      \u001b[0m\n",
      "\n",
      "\n",
      "\n",
      "\n",
      "D = 6 periodic grid graph\n",
      "\n"
     ]
    }
   ],
   "source": [
    "flipped_vertices = [0, 3, 5, 12, 15, 19]\n",
    "flipped_edges = [6, 15, 27, 36, 43]\n",
    "graph.draw_graph(vertices=flipped_vertices, edges=flipped_edges)"
   ]
  },
  {
   "cell_type": "markdown",
   "metadata": {},
   "source": [
    "So, can we come up with an efficient algorithm that helps solves this puzzle?\n",
    "\n",
    "There's a few ways to do this..."
   ]
  }
 ],
 "metadata": {
  "kernelspec": {
   "display_name": "Python 3.9.16 64-bit",
   "language": "python",
   "name": "python3"
  },
  "language_info": {
   "codemirror_mode": {
    "name": "ipython",
    "version": 3
   },
   "file_extension": ".py",
   "mimetype": "text/x-python",
   "name": "python",
   "nbconvert_exporter": "python",
   "pygments_lexer": "ipython3",
   "version": "3.9.16"
  },
  "orig_nbformat": 4,
  "vscode": {
   "interpreter": {
    "hash": "949777d72b0d2535278d3dc13498b2535136f6dfe0678499012e853ee9abcab1"
   }
  }
 },
 "nbformat": 4,
 "nbformat_minor": 2
}
